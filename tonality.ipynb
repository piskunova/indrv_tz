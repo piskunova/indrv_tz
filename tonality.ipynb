{
 "cells": [
  {
   "cell_type": "code",
   "execution_count": 1,
   "metadata": {},
   "outputs": [],
   "source": [
    "import pandas as pd\n",
    "import matplotlib.pyplot as plt "
   ]
  },
  {
   "cell_type": "code",
   "execution_count": 3,
   "metadata": {},
   "outputs": [
    {
     "data": {
      "text/html": [
       "<div>\n",
       "<style scoped>\n",
       "    .dataframe tbody tr th:only-of-type {\n",
       "        vertical-align: middle;\n",
       "    }\n",
       "\n",
       "    .dataframe tbody tr th {\n",
       "        vertical-align: top;\n",
       "    }\n",
       "\n",
       "    .dataframe thead th {\n",
       "        text-align: right;\n",
       "    }\n",
       "</style>\n",
       "<table border=\"1\" class=\"dataframe\">\n",
       "  <thead>\n",
       "    <tr style=\"text-align: right;\">\n",
       "      <th></th>\n",
       "      <th>date</th>\n",
       "      <th>user_id</th>\n",
       "      <th>city</th>\n",
       "      <th>tweet</th>\n",
       "      <th>translated_tweet</th>\n",
       "      <th>tonality</th>\n",
       "    </tr>\n",
       "  </thead>\n",
       "  <tbody>\n",
       "    <tr>\n",
       "      <th>0</th>\n",
       "      <td>2021-04-09</td>\n",
       "      <td>3391393989</td>\n",
       "      <td>Livramento do Brumado</td>\n",
       "      <td>Chamar pop/indriver das 18:00 até às 19:00 é a...</td>\n",
       "      <td>Call Pop / Indriver from 18:00 until 19:00 is ...</td>\n",
       "      <td>-1</td>\n",
       "    </tr>\n",
       "    <tr>\n",
       "      <th>1</th>\n",
       "      <td>2021-04-27</td>\n",
       "      <td>1366132984693276677</td>\n",
       "      <td>Cambebba</td>\n",
       "      <td>@inDriver الزكاة والدخل  حل جميع مشاكل الزكاة ...</td>\n",
       "      <td>@Indriver Zakat and Income Solution Solving al...</td>\n",
       "      <td>0</td>\n",
       "    </tr>\n",
       "    <tr>\n",
       "      <th>2</th>\n",
       "      <td>2021-05-09</td>\n",
       "      <td>851012314828611584</td>\n",
       "      <td>Barreiro do Jaíba</td>\n",
       "      <td>@inDriver vc tb</td>\n",
       "      <td>@Indriver VC TB.</td>\n",
       "      <td>0</td>\n",
       "    </tr>\n",
       "    <tr>\n",
       "      <th>3</th>\n",
       "      <td>2021-04-30</td>\n",
       "      <td>765867829</td>\n",
       "      <td>Pôsto Fiscal Rolim de Moura</td>\n",
       "      <td>el tipo del indriver utilizando mi información...</td>\n",
       "      <td>The type of Indriver using my App information ...</td>\n",
       "      <td>-1</td>\n",
       "    </tr>\n",
       "    <tr>\n",
       "      <th>4</th>\n",
       "      <td>2021-05-05</td>\n",
       "      <td>800537413093191680</td>\n",
       "      <td>Aragarças</td>\n",
       "      <td>Eu toda cheirosa, entro no indriver e o fedor ...</td>\n",
       "      <td>I all fragrant, enter the indriver and the cig...</td>\n",
       "      <td>-1</td>\n",
       "    </tr>\n",
       "  </tbody>\n",
       "</table>\n",
       "</div>"
      ],
      "text/plain": [
       "         date              user_id                         city  \\\n",
       "0  2021-04-09           3391393989        Livramento do Brumado   \n",
       "1  2021-04-27  1366132984693276677                     Cambebba   \n",
       "2  2021-05-09   851012314828611584            Barreiro do Jaíba   \n",
       "3  2021-04-30            765867829  Pôsto Fiscal Rolim de Moura   \n",
       "4  2021-05-05   800537413093191680                    Aragarças   \n",
       "\n",
       "                                               tweet  \\\n",
       "0  Chamar pop/indriver das 18:00 até às 19:00 é a...   \n",
       "1  @inDriver الزكاة والدخل  حل جميع مشاكل الزكاة ...   \n",
       "2                                    @inDriver vc tb   \n",
       "3  el tipo del indriver utilizando mi información...   \n",
       "4  Eu toda cheirosa, entro no indriver e o fedor ...   \n",
       "\n",
       "                                    translated_tweet  tonality  \n",
       "0  Call Pop / Indriver from 18:00 until 19:00 is ...        -1  \n",
       "1  @Indriver Zakat and Income Solution Solving al...         0  \n",
       "2                                   @Indriver VC TB.         0  \n",
       "3  The type of Indriver using my App information ...        -1  \n",
       "4  I all fragrant, enter the indriver and the cig...        -1  "
      ]
     },
     "execution_count": 3,
     "metadata": {},
     "output_type": "execute_result"
    }
   ],
   "source": [
    "df = pd.read_csv('data/twi_data_translated_tonality.tsv', sep='\\t')\n",
    "df.head()"
   ]
  },
  {
   "cell_type": "code",
   "execution_count": 4,
   "metadata": {},
   "outputs": [
    {
     "data": {
      "text/html": [
       "<div>\n",
       "<style scoped>\n",
       "    .dataframe tbody tr th:only-of-type {\n",
       "        vertical-align: middle;\n",
       "    }\n",
       "\n",
       "    .dataframe tbody tr th {\n",
       "        vertical-align: top;\n",
       "    }\n",
       "\n",
       "    .dataframe thead th {\n",
       "        text-align: right;\n",
       "    }\n",
       "</style>\n",
       "<table border=\"1\" class=\"dataframe\">\n",
       "  <thead>\n",
       "    <tr style=\"text-align: right;\">\n",
       "      <th></th>\n",
       "      <th>tonality</th>\n",
       "    </tr>\n",
       "  </thead>\n",
       "  <tbody>\n",
       "    <tr>\n",
       "      <th>0</th>\n",
       "      <td>289</td>\n",
       "    </tr>\n",
       "    <tr>\n",
       "      <th>-1</th>\n",
       "      <td>124</td>\n",
       "    </tr>\n",
       "    <tr>\n",
       "      <th>1</th>\n",
       "      <td>87</td>\n",
       "    </tr>\n",
       "  </tbody>\n",
       "</table>\n",
       "</div>"
      ],
      "text/plain": [
       "    tonality\n",
       " 0       289\n",
       "-1       124\n",
       " 1        87"
      ]
     },
     "execution_count": 4,
     "metadata": {},
     "output_type": "execute_result"
    }
   ],
   "source": [
    "tone_counts = pd.DataFrame(df.tonality.value_counts())\n",
    "tone_counts.head()"
   ]
  },
  {
   "cell_type": "code",
   "execution_count": 5,
   "metadata": {},
   "outputs": [
    {
     "data": {
      "image/png": "[encoded data removed]",
      "text/plain": [
       "<Figure size 432x288 with 1 Axes>"
      ]
     },
     "metadata": {},
     "output_type": "display_data"
    }
   ],
   "source": [
    "labels = tone_counts.index\n",
    "sizes = tone_counts.tonality\n",
    "\n",
    "fig1, ax1 = plt.subplots()\n",
    "ax1.pie(sizes, labels=labels, autopct='%1.1f%%', shadow=True, startangle=90)\n",
    "ax1.axis('equal')\n",
    "\n",
    "plt.show()"
   ]
  }
 ],
 "metadata": {
  "kernelspec": {
   "display_name": "Python 3",
   "language": "python",
   "name": "python3"
  },
  "language_info": {
   "codemirror_mode": {
    "name": "ipython",
    "version": 3
   },
   "file_extension": ".py",
   "mimetype": "text/x-python",
   "name": "python",
   "nbconvert_exporter": "python",
   "pygments_lexer": "ipython3",
   "version": "3.8.5"
  }
 },
 "nbformat": 4,
 "nbformat_minor": 1
}
