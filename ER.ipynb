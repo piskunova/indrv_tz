{
 "cells": [
  {
   "cell_type": "code",
   "execution_count": 1,
   "id": "4f2e57f9",
   "metadata": {},
   "outputs": [],
   "source": [
    "from instascrape import Profile\n",
    "import pandas as pd "
   ]
  },
  {
   "cell_type": "code",
   "execution_count": 2,
   "id": "88ecd2f3",
   "metadata": {},
   "outputs": [
    {
     "name": "stderr",
     "output_type": "stream",
     "text": [
      "/home/kisik2007/indrv_tz/venv/lib/python3.8/site-packages/instascrape/core/_static_scraper.py:134: MissingCookiesWarning: Request header does not contain cookies! It's recommended you pass at least a valid sessionid otherwise Instagram will likely redirect you to their login page.\n",
      "  warnings.warn(\n"
     ]
    }
   ],
   "source": [
    "profile = Profile('indriver_brasil')\n",
    "profile.scrape()"
   ]
  },
  {
   "cell_type": "code",
   "execution_count": 3,
   "id": "4a4df6c3",
   "metadata": {},
   "outputs": [],
   "source": [
    "recent_posts = profile.get_recent_posts()"
   ]
  },
  {
   "cell_type": "code",
   "execution_count": 4,
   "id": "496c6a85",
   "metadata": {},
   "outputs": [
    {
     "data": {
      "text/html": [
       "<div>\n",
       "<style scoped>\n",
       "    .dataframe tbody tr th:only-of-type {\n",
       "        vertical-align: middle;\n",
       "    }\n",
       "\n",
       "    .dataframe tbody tr th {\n",
       "        vertical-align: top;\n",
       "    }\n",
       "\n",
       "    .dataframe thead th {\n",
       "        text-align: right;\n",
       "    }\n",
       "</style>\n",
       "<table border=\"1\" class=\"dataframe\">\n",
       "  <thead>\n",
       "    <tr style=\"text-align: right;\">\n",
       "      <th></th>\n",
       "      <th>upload_date</th>\n",
       "      <th>comments</th>\n",
       "      <th>likes</th>\n",
       "    </tr>\n",
       "  </thead>\n",
       "  <tbody>\n",
       "    <tr>\n",
       "      <th>0</th>\n",
       "      <td>2021-05-09 16:09:04</td>\n",
       "      <td>61</td>\n",
       "      <td>91</td>\n",
       "    </tr>\n",
       "    <tr>\n",
       "      <th>1</th>\n",
       "      <td>2021-05-07 21:34:15</td>\n",
       "      <td>10</td>\n",
       "      <td>33</td>\n",
       "    </tr>\n",
       "    <tr>\n",
       "      <th>2</th>\n",
       "      <td>2021-05-05 19:16:00</td>\n",
       "      <td>28</td>\n",
       "      <td>70</td>\n",
       "    </tr>\n",
       "    <tr>\n",
       "      <th>3</th>\n",
       "      <td>2021-05-04 21:12:53</td>\n",
       "      <td>4</td>\n",
       "      <td>37</td>\n",
       "    </tr>\n",
       "    <tr>\n",
       "      <th>4</th>\n",
       "      <td>2021-04-23 17:00:28</td>\n",
       "      <td>103</td>\n",
       "      <td>82</td>\n",
       "    </tr>\n",
       "    <tr>\n",
       "      <th>5</th>\n",
       "      <td>2021-04-21 21:04:00</td>\n",
       "      <td>60</td>\n",
       "      <td>73</td>\n",
       "    </tr>\n",
       "    <tr>\n",
       "      <th>6</th>\n",
       "      <td>2021-04-19 17:44:00</td>\n",
       "      <td>70</td>\n",
       "      <td>101</td>\n",
       "    </tr>\n",
       "    <tr>\n",
       "      <th>7</th>\n",
       "      <td>2021-04-15 16:44:52</td>\n",
       "      <td>28</td>\n",
       "      <td>496</td>\n",
       "    </tr>\n",
       "    <tr>\n",
       "      <th>8</th>\n",
       "      <td>2021-04-13 20:23:52</td>\n",
       "      <td>27</td>\n",
       "      <td>151</td>\n",
       "    </tr>\n",
       "    <tr>\n",
       "      <th>9</th>\n",
       "      <td>2021-04-09 15:02:34</td>\n",
       "      <td>57</td>\n",
       "      <td>95</td>\n",
       "    </tr>\n",
       "    <tr>\n",
       "      <th>10</th>\n",
       "      <td>2021-04-08 18:19:13</td>\n",
       "      <td>23</td>\n",
       "      <td>85</td>\n",
       "    </tr>\n",
       "    <tr>\n",
       "      <th>11</th>\n",
       "      <td>2021-04-04 19:07:18</td>\n",
       "      <td>71</td>\n",
       "      <td>130</td>\n",
       "    </tr>\n",
       "  </tbody>\n",
       "</table>\n",
       "</div>"
      ],
      "text/plain": [
       "           upload_date  comments  likes\n",
       "0  2021-05-09 16:09:04        61     91\n",
       "1  2021-05-07 21:34:15        10     33\n",
       "2  2021-05-05 19:16:00        28     70\n",
       "3  2021-05-04 21:12:53         4     37\n",
       "4  2021-04-23 17:00:28       103     82\n",
       "5  2021-04-21 21:04:00        60     73\n",
       "6  2021-04-19 17:44:00        70    101\n",
       "7  2021-04-15 16:44:52        28    496\n",
       "8  2021-04-13 20:23:52        27    151\n",
       "9  2021-04-09 15:02:34        57     95\n",
       "10 2021-04-08 18:19:13        23     85\n",
       "11 2021-04-04 19:07:18        71    130"
      ]
     },
     "execution_count": 4,
     "metadata": {},
     "output_type": "execute_result"
    }
   ],
   "source": [
    "data = [post.to_dict() for post in recent_posts]\n",
    "df = pd.DataFrame(data)\n",
    "df[['upload_date', 'comments', 'likes']]"
   ]
  },
  {
   "cell_type": "code",
   "execution_count": 6,
   "id": "e465d521",
   "metadata": {},
   "outputs": [
    {
     "data": {
      "text/plain": [
       "108746"
      ]
     },
     "execution_count": 6,
     "metadata": {},
     "output_type": "execute_result"
    }
   ],
   "source": [
    "subscibers = profile.followers\n",
    "subscibers"
   ]
  },
  {
   "cell_type": "code",
   "execution_count": 16,
   "id": "2e0d87ea",
   "metadata": {},
   "outputs": [],
   "source": [
    "def count_er(n_subscibers, n_comments, n_likes, n_posts):\n",
    "    return round((n_comments + n_likes)/n_posts/n_subscibers*100, 2)"
   ]
  },
  {
   "cell_type": "code",
   "execution_count": 17,
   "id": "90d4bdf9",
   "metadata": {},
   "outputs": [
    {
     "name": "stdout",
     "output_type": "stream",
     "text": [
      "ER for the last 12 posts: 0.15%\n"
     ]
    }
   ],
   "source": [
    "print(f'ER for the last 12 posts: {count_er(subscibers, sum(df.comments), sum(df.likes), df.shape[0])}%')"
   ]
  }
 ],
 "metadata": {
  "kernelspec": {
   "display_name": "Python 3",
   "language": "python",
   "name": "python3"
  },
  "language_info": {
   "codemirror_mode": {
    "name": "ipython",
    "version": 3
   },
   "file_extension": ".py",
   "mimetype": "text/x-python",
   "name": "python",
   "nbconvert_exporter": "python",
   "pygments_lexer": "ipython3",
   "version": "3.8.5"
  }
 },
 "nbformat": 4,
 "nbformat_minor": 5
}
